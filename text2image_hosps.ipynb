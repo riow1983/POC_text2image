{
 "cells": [
  {
   "cell_type": "code",
   "execution_count": 2,
   "metadata": {
    "collapsed": false
   },
   "outputs": [],
   "source": [
    "from PIL import Image, ImageDraw, ImageFont\n",
    "import pandas as pd\n",
    "import sys\n",
    "from IPython.core.display import display"
   ]
  },
  {
   "cell_type": "code",
   "execution_count": 21,
   "metadata": {
    "collapsed": false
   },
   "outputs": [
    {
     "data": {
      "text/plain": [
       "' reference:\\n        https://qiita.com/suto3/items/3885e396d63f83e5cb5b \\n'"
      ]
     },
     "execution_count": 21,
     "metadata": {},
     "output_type": "execute_result"
    }
   ],
   "source": [
    "if sys.platform == \"darwin\":\n",
    "    # for OSX\n",
    "    #FONTPATH = '/Library/Fonts/Osaka.ttf'\n",
    "    FONTPATH = '/Library/Fonts/Verdana.ttf'\n",
    "elif sys.platform == \"linux2\":\n",
    "    # for Linux\n",
    "    FONTPATH = '/usr/share/fonts/truetype/fonts-japanese-gothic.ttf'\n",
    "else:\n",
    "    # otherwise assume Windows (bogging up)\n",
    "    FONTPATH = 'C:\\WINDOWS\\Fonts\\HGRPP1.TTC'\n",
    "\n",
    "    \n",
    "\n",
    "\"\"\" reference:\n",
    "        https://qiita.com/suto3/items/3885e396d63f83e5cb5b \n",
    "\"\"\""
   ]
  },
  {
   "cell_type": "code",
   "execution_count": 22,
   "metadata": {
    "collapsed": false
   },
   "outputs": [
    {
     "name": "stdout",
     "output_type": "stream",
     "text": [
      "/Library/Fonts/Verdana.ttf\n"
     ]
    }
   ],
   "source": [
    "print(FONTPATH)"
   ]
  },
  {
   "cell_type": "code",
   "execution_count": 5,
   "metadata": {
    "collapsed": true
   },
   "outputs": [],
   "source": [
    "# train or test?\n",
    "train_or_test = \"train\"\n",
    "train_file_name = \"HOSP2017-2.xlsx\"\n",
    "test_file_name = \"\""
   ]
  },
  {
   "cell_type": "code",
   "execution_count": 6,
   "metadata": {
    "collapsed": false
   },
   "outputs": [
    {
     "data": {
      "text/plain": [
       "' train data source: https://www.ihep.jp/business/other/ \\n    test data source: \\n'"
      ]
     },
     "execution_count": 6,
     "metadata": {},
     "output_type": "execute_result"
    }
   ],
   "source": [
    "\"\"\" train data source: https://www.ihep.jp/business/other/ \n",
    "    test data source: \n",
    "\"\"\""
   ]
  },
  {
   "cell_type": "code",
   "execution_count": 7,
   "metadata": {
    "collapsed": false
   },
   "outputs": [],
   "source": [
    "# read data\n",
    "df = pd.read_excel(\"./data/{}/{}\".format(train_or_test, train_file_name))"
   ]
  },
  {
   "cell_type": "code",
   "execution_count": 8,
   "metadata": {
    "collapsed": true
   },
   "outputs": [],
   "source": [
    "sites = df[\"医療機関名\"].dropna().tolist()"
   ]
  },
  {
   "cell_type": "code",
   "execution_count": 10,
   "metadata": {
    "collapsed": false
   },
   "outputs": [
    {
     "name": "stdout",
     "output_type": "stream",
     "text": [
      "['社会福祉法人\\u3000函館厚生院\\u3000函館五稜郭病院', '函館中央病院', '函館赤十字病院', '社会医療法人\\u3000高橋病院', '函館渡辺病院', '医療法人\\u3000同仁会\\u3000佐々木病院', '特定医療法人\\u3000富田病院', '共愛会病院', '医療法人\\u3000尚仁会\\u3000竹田病院', '社会医療法人仁生会\\u3000西堀病院']\n"
     ]
    }
   ],
   "source": [
    "print(sites[:10])"
   ]
  },
  {
   "cell_type": "code",
   "execution_count": 11,
   "metadata": {
    "collapsed": true
   },
   "outputs": [],
   "source": [
    "maxlen = max([len(site) for site in sites])"
   ]
  },
  {
   "cell_type": "code",
   "execution_count": 27,
   "metadata": {
    "collapsed": false
   },
   "outputs": [
    {
     "data": {
      "image/png": "[encoded data removed]",
      "text/plain": [
       "<PIL.Image.Image image mode=RGB size=700x30 at 0x10A87E400>"
      ]
     },
     "metadata": {},
     "output_type": "display_data"
    }
   ],
   "source": [
    "# validate the horisontal length of an image\n",
    "img = Image.new('RGB', (700, 30))\n",
    "d = ImageDraw.Draw(img)\n",
    "font=ImageFont.truetype(FONTPATH,14)\n",
    "d.text((10,10), \"\".join(\"あ\" for _ in range(maxlen)), font=font)\n",
    "display(img)\n",
    "#img.save('./images/{}/test1hospital.png'.fromat(train_or_test))"
   ]
  },
  {
   "cell_type": "code",
   "execution_count": null,
   "metadata": {
    "collapsed": true
   },
   "outputs": [],
   "source": [
    "font=ImageFont.truetype(FONTPATH,14)\n",
    "for site in sites:\n",
    "    img = Image.new('RGB', (100, 30))\n",
    "    d = ImageDraw.Draw(img)\n",
    "    d.text((10,10), site, font=font)\n",
    "    img.save('./images/{}/{}/{}.png'.format(train_or_test, site, site))"
   ]
  }
 ],
 "metadata": {
  "kernelspec": {
   "display_name": "Python 3",
   "language": "python",
   "name": "python3"
  },
  "language_info": {
   "codemirror_mode": {
    "name": "ipython",
    "version": 3
   },
   "file_extension": ".py",
   "mimetype": "text/x-python",
   "name": "python",
   "nbconvert_exporter": "python",
   "pygments_lexer": "ipython3",
   "version": "3.6.0"
  }
 },
 "nbformat": 4,
 "nbformat_minor": 2
}
